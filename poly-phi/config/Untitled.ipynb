{
 "cells": [
  {
   "cell_type": "code",
   "execution_count": 1,
   "id": "c33f50d7",
   "metadata": {},
   "outputs": [],
   "source": [
    "import json\n",
    "\n",
    "with open('zero_stage3_config.json') as fopen:\n",
    "    config = json.load(fopen)"
   ]
  },
  {
   "cell_type": "code",
   "execution_count": 2,
   "id": "1560c9ef",
   "metadata": {},
   "outputs": [
    {
     "data": {
      "text/plain": [
       "{'fp16': {'enabled': True,\n",
       "  'loss_scale': 0,\n",
       "  'loss_scale_window': 1000,\n",
       "  'initial_scale_power': 16,\n",
       "  'hysteresis': 2,\n",
       "  'min_loss_scale': 1},\n",
       " 'optimizer': {'type': 'AdamW',\n",
       "  'params': {'lr': 'auto', 'weight_decay': 'auto'}},\n",
       " 'scheduler': {'type': 'WarmupDecayLR',\n",
       "  'params': {'warmup_min_lr': 'auto',\n",
       "   'warmup_max_lr': 'auto',\n",
       "   'warmup_num_steps': 'auto',\n",
       "   'total_num_steps': 'auto'}},\n",
       " 'zero_optimization': {'stage': 3,\n",
       "  'overlap_comm': True,\n",
       "  'contiguous_gradients': True,\n",
       "  'reduce_bucket_size': 'auto',\n",
       "  'stage3_prefetch_bucket_size': 'auto',\n",
       "  'stage3_param_persistence_threshold': 'auto',\n",
       "  'sub_group_size': 1000000000.0,\n",
       "  'stage3_max_live_parameters': 1000000000.0,\n",
       "  'stage3_max_reuse_distance': 1000000000.0,\n",
       "  'stage3_gather_16bit_weights_on_model_save': 'auto'},\n",
       " 'gradient_accumulation_steps': 1,\n",
       " 'gradient_clipping': 'auto',\n",
       " 'steps_per_print': 2000,\n",
       " 'train_batch_size': 'auto',\n",
       " 'train_micro_batch_size_per_gpu': 'auto',\n",
       " 'wall_clock_breakdown': False}"
      ]
     },
     "execution_count": 2,
     "metadata": {},
     "output_type": "execute_result"
    }
   ],
   "source": [
    "config\n"
   ]
  },
  {
   "cell_type": "code",
   "execution_count": 3,
   "id": "5e9de5b8",
   "metadata": {},
   "outputs": [
    {
     "data": {
      "text/plain": [
       "dict"
      ]
     },
     "execution_count": 3,
     "metadata": {},
     "output_type": "execute_result"
    }
   ],
   "source": [
    "type(config)"
   ]
  },
  {
   "cell_type": "code",
   "execution_count": null,
   "id": "9a835a24",
   "metadata": {},
   "outputs": [],
   "source": []
  }
 ],
 "metadata": {
  "kernelspec": {
   "display_name": "Python 3 (ipykernel)",
   "language": "python",
   "name": "python3"
  },
  "language_info": {
   "codemirror_mode": {
    "name": "ipython",
    "version": 3
   },
   "file_extension": ".py",
   "mimetype": "text/x-python",
   "name": "python",
   "nbconvert_exporter": "python",
   "pygments_lexer": "ipython3",
   "version": "3.11.5"
  }
 },
 "nbformat": 4,
 "nbformat_minor": 5
}
